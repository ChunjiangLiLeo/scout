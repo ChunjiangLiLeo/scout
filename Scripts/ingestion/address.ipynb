{
 "cells": [
  {
   "cell_type": "code",
   "execution_count": 1,
   "id": "a7180cc1-b3a3-4287-92d6-83df5a376a41",
   "metadata": {},
   "outputs": [
    {
     "name": "stdout",
     "output_type": "stream",
     "text": [
      "📂 Current Working Directory: /Users/jade/Desktop/Scout/Data\n"
     ]
    }
   ],
   "source": [
    "import pandas as pd\n",
    "import sqlite3\n",
    "import os\n",
    "\n",
    "# Set working directory\n",
    "os.chdir(\"/Users/jade/Desktop/Scout/Data\")\n",
    "print(\"📂 Current Working Directory:\", os.getcwd())\n"
   ]
  },
  {
   "cell_type": "code",
   "execution_count": 2,
   "id": "06b68630-eedb-4f3d-b86b-a3412db0e771",
   "metadata": {},
   "outputs": [],
   "source": [
    "# Load CSVs — ensure the filenames are correct\n",
    "addresses = pd.read_excel(\"address.xlsx\")"
   ]
  },
  {
   "cell_type": "code",
   "execution_count": null,
   "id": "9f15378a-28e1-49de-a6f1-81e0b2bb3d21",
   "metadata": {},
   "outputs": [],
   "source": []
  }
 ],
 "metadata": {
  "kernelspec": {
   "display_name": "Python 3 (ipykernel)",
   "language": "python",
   "name": "python3"
  },
  "language_info": {
   "codemirror_mode": {
    "name": "ipython",
    "version": 3
   },
   "file_extension": ".py",
   "mimetype": "text/x-python",
   "name": "python",
   "nbconvert_exporter": "python",
   "pygments_lexer": "ipython3",
   "version": "3.11.11"
  }
 },
 "nbformat": 4,
 "nbformat_minor": 5
}
